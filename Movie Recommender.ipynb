{
 "cells": [
  {
   "cell_type": "code",
   "execution_count": 1,
   "metadata": {},
   "outputs": [],
   "source": [
    "# The address of the metadata server\n",
    "SERVER_IP = \"128.2.204.215\"\n",
    "# The port of the metadata server\n",
    "SERVER_PORT = 8080\n",
    "# the path to the input file \n",
    "ipath = '/Users/gxchris/Desktop/m.csv'\n",
    "# the path to the output file\n",
    "opath1 = '/Users/gxchris/Desktop/meta_user.csv'\n",
    "opath2 = '/Users/gxchris/Desktop/meta_movie.csv'\n",
    "# batch size\n",
    "LIMIT = 100000"
   ]
  },
  {
   "cell_type": "code",
   "execution_count": 2,
   "metadata": {},
   "outputs": [],
   "source": [
    "from kafka import KafkaConsumer \n",
    "import logging\n",
    "import os\n",
    "import time\n",
    "import pandas as pd\n",
    "import requests\n",
    "from surprise import Reader, Dataset, SVD, accuracy\n",
    "from surprise.model_selection import train_test_split"
   ]
  },
  {
   "cell_type": "code",
   "execution_count": 3,
   "metadata": {},
   "outputs": [],
   "source": [
    "def read_events(f,LIMIT):\n",
    "    # Create a consumer to read data from kafka\n",
    "    consumer = KafkaConsumer(\n",
    "        'movielog16',\n",
    "        bootstrap_servers=['localhost:9092'],\n",
    "        # Read from the start of the topic; Default is latest\n",
    "        auto_offset_reset='earliest'\n",
    "    )\n",
    "    # Prints all messages, again and again!\n",
    "    processed =0\n",
    "    for message in consumer:\n",
    "        # Default message.value type is bytes!\n",
    "        event = message.value.decode('utf-8')\n",
    "        processed +=1\n",
    "        if (event.split(\",\")[-1].split(\"/\")[0].strip()== 'GET'): \n",
    "            if event.split(\",\")[-1].split(\"/\")[-2]!= 'rate':\n",
    "                user_id = event.split(\",\")[1]\n",
    "                movie_name = event.split(\",\")[-1].split(\"/\")[-2]\n",
    "                rating = event.split(\",\")[-1].split(\"/\")[-1].strip('.mpg')\n",
    "                f.write(f\"{user_id},{movie_name},{rating}\\n\")\n",
    "        if processed == LIMIT:\n",
    "            break"
   ]
  },
  {
   "cell_type": "code",
   "execution_count": 4,
   "metadata": {},
   "outputs": [],
   "source": [
    "def download():\n",
    "    with open (ipath, 'w') as f:\n",
    "        return read_events(f,LIMIT)"
   ]
  },
  {
   "cell_type": "code",
   "execution_count": 5,
   "metadata": {},
   "outputs": [],
   "source": [
    "download()"
   ]
  },
  {
   "cell_type": "code",
   "execution_count": 6,
   "metadata": {
    "scrolled": true
   },
   "outputs": [
    {
     "name": "stderr",
     "output_type": "stream",
     "text": [
      "/Users/gxchris/opt/anaconda3/envs/whylogs-mlflow/lib/python3.8/site-packages/tqdm/auto.py:22: TqdmWarning: IProgress not found. Please update jupyter and ipywidgets. See https://ipywidgets.readthedocs.io/en/stable/user_install.html\n",
      "  from .autonotebook import tqdm as notebook_tqdm\n",
      "About to log a dataframe with 295140 elements, logging might take some time to complete.\n"
     ]
    },
    {
     "name": "stdout",
     "output_type": "stream",
     "text": [
      "WARN: Missing config\n"
     ]
    }
   ],
   "source": [
    "from whylogs import get_or_create_session\n",
    "import pandas as pd\n",
    "\n",
    "session = get_or_create_session()\n",
    "\n",
    "df = pd.read_csv(ipath, names=['userid','movieid','rating'])\n",
    "\n",
    "with session.logger(dataset_name=\"movie_data\") as logger:\n",
    "    logger.log_dataframe(df)"
   ]
  },
  {
   "cell_type": "code",
   "execution_count": null,
   "metadata": {
    "scrolled": true
   },
   "outputs": [
    {
     "name": "stderr",
     "output_type": "stream",
     "text": [
      "About to log a dataframe with 295140 elements, logging might take some time to complete.\n"
     ]
    }
   ],
   "source": [
    "prof = session.log_dataframe(df)\n",
    "summary = prof.flat_summary()\n",
    "stats_df = summary['summary']\n",
    "stats_df"
   ]
  },
  {
   "cell_type": "code",
   "execution_count": null,
   "metadata": {},
   "outputs": [],
   "source": [
    "from whylogs.app import Session\n",
    "from whylogs.app.writers import WhyLabsWriter\n",
    "from whylogs import get_or_create_session\n",
    "\n",
    "os.environ[\"WHYLABS_API_KEY\"] = \"pFovK8RVfX.KB8Oh3Qrb0Icz8Tqj6eTIXtUz9wMxHaL949Gnd1X9jrWTSrXq7DuP\"\n",
    "os.environ[\"WHYLABS_DEFAULT_ORG_ID\"] = \"org-FRbeeg\"\n",
    "os.environ[\"WHYLABS_DEFAULT_DATASET_ID\"] = \"model-5\"\n",
    "\n",
    "# Create a consumer to read data from kafka\n",
    "consumer = KafkaConsumer(\n",
    "    'movielog16',\n",
    "    bootstrap_servers=['localhost:9092'],\n",
    "    # Read from the start of the topic; Default is latest\n",
    "    auto_offset_reset='earliest')\n",
    "processed =0\n",
    "writer = WhyLabsWriter()\n",
    "session = Session(project=\"movie-test2\", pipeline=\"test2-pipeline\", writers=[writer])\n",
    "with session.logger(dataset_name=\"dataset\", with_rotation_time=\"s\") as logger:\n",
    "    while True:\n",
    "        for message in consumer:\n",
    "            # Default message.value type is bytes!\n",
    "            event = message.value.decode('utf-8')\n",
    "            processed +=1\n",
    "            if (event.split(\",\")[-1].split(\"/\")[0].strip()== 'GET'): \n",
    "                if event.split(\",\")[-1].split(\"/\")[-2]!= 'rate':\n",
    "                    user_id = event.split(\",\")[1]\n",
    "                    movie_name = event.split(\",\")[-1].split(\"/\")[-2]\n",
    "                    rating = event.split(\",\")[-1].split(\"/\")[-1].strip('.mpg')\n",
    "                    logger.log({\"user_id\": user_id, \"movie_name\": movie_name, \"rating\": rating})"
   ]
  },
  {
   "cell_type": "code",
   "execution_count": null,
   "metadata": {},
   "outputs": [],
   "source": [
    "from whylogs.app import Session\n",
    "from whylogs.app.writers import WhyLabsWriter\n",
    "\n",
    "os.environ[\"WHYLABS_API_KEY\"] = \"pFovK8RVfX.KB8Oh3Qrb0Icz8Tqj6eTIXtUz9wMxHaL949Gnd1X9jrWTSrXq7DuP\"\n",
    "os.environ[\"WHYLABS_DEFAULT_ORG_ID\"] = \"org-FRbeeg\"\n",
    "\n",
    "# Adding the WhyLabs Writer to utilize WhyLabs platform\n",
    "writer = WhyLabsWriter(\"\", formats=[])\n",
    "\n",
    "session = Session(project=\"movie-test1\", pipeline=\"test1-pipeline\", writers=[writer])\n",
    "\n",
    "# Point to your local CSV if you have your own data\n",
    "df = pd.read_csv(ipath, names=['userid','movieid','rating'])\n",
    "\n",
    "# Run whylogs on current data and upload to WhyLabs.\n",
    "# Note: the datasetId is the same as the modelId\n",
    "# The selected model project \"MODEL-NAME\" is \"model-1\"\n",
    "\n",
    "with session.logger(tags={\"datasetId\": \"model-4\"}) as ylog:\n",
    "    ylog.log_dataframe(df)"
   ]
  },
  {
   "cell_type": "code",
   "execution_count": null,
   "metadata": {},
   "outputs": [],
   "source": [
    "import warnings\n",
    "warnings.filterwarnings(\"ignore\")\n",
    "warnings.simplefilter('ignore')\n",
    "\n",
    "import random\n",
    "import time\n",
    "import mlflow\n",
    "import whylogs"
   ]
  },
  {
   "cell_type": "code",
   "execution_count": null,
   "metadata": {},
   "outputs": [],
   "source": [
    "from whylogs import get_or_create_session\n",
    "assert whylogs.__version__ >= \"0.1.13\" # we need 0.1.13 or later for MLflow integration\n",
    "session = get_or_create_session(\".whylogs_mlflow.yaml\")\n",
    "whylogs.enable_mlflow(session)"
   ]
  },
  {
   "cell_type": "code",
   "execution_count": null,
   "metadata": {},
   "outputs": [],
   "source": [
    "import numpy as np\n",
    "def target_col(testset):\n",
    "    target = np.array(testset)\n",
    "    targetset = target[:,-1].astype(np.float)\n",
    "    return targetset.tolist()"
   ]
  },
  {
   "cell_type": "code",
   "execution_count": null,
   "metadata": {},
   "outputs": [],
   "source": [
    "from whylogs.app import Session\n",
    "from whylogs.app.writers import WhyLabsWriter\n",
    "from whylogs import get_or_create_session\n",
    "from whylogs.proto import ModelType\n",
    "\n",
    "\n",
    "os.environ[\"WHYLABS_API_KEY\"] = \"pFovK8RVfX.KB8Oh3Qrb0Icz8Tqj6eTIXtUz9wMxHaL949Gnd1X9jrWTSrXq7DuP\"\n",
    "os.environ[\"WHYLABS_DEFAULT_ORG_ID\"] = \"org-FRbeeg\"\n",
    "os.environ[\"WHYLABS_DEFAULT_DATASET_ID\"] = \"model-5\"\n",
    "\n",
    "# Create an MLflow experiment \n",
    "experiment_name = \"movie_reco\"\n",
    "mlflow.set_experiment(experiment_name)\n",
    "\n",
    "writer = WhyLabsWriter()\n",
    "session = Session(project=\"movie-test2\", pipeline=\"test2-pipeline\", writers=[writer])\n",
    "\n",
    "reader = Reader()\n",
    "df = pd.read_csv(ipath, names=['userid','movieid','rating'])\n",
    "dataset = Dataset.load_from_df(df[['userid', 'movieid', 'rating']], reader)\n",
    "trainset, testset = train_test_split(dataset, test_size=.25)\n",
    "svd = SVD()\n",
    "svd.fit(trainset)\n",
    "with mlflow.start_run(run_name=\"movie_reco\"):\n",
    "    output = svd.test(testset) #prediction\n",
    "    rmse = accuracy.rmse(output)\n",
    "    mlflow.log_metric(\"rmse\", rmse)\n",
    "    # use whylogs to log data quality metrics for the current batch\n",
    "    test_df = pd.DataFrame(testset,columns = ['userid', 'movieid', 'rating'])\n",
    "    mlflow.whylogs.log_pandas(df)\n",
    "    target = target_col(testset)\n",
    "    with session.logger(tags={\"datasetId\": \"model-5\"}) as ylog:\n",
    "        ylog.log_dataframe(df)\n",
    "        ylog.log_metrics(target, [i.r_ui for i in output],model_type=ModelType.REGRESSION)\n"
   ]
  },
  {
   "cell_type": "code",
   "execution_count": null,
   "metadata": {},
   "outputs": [],
   "source": [
    "client = mlflow.tracking.MlflowClient()\n",
    "experiment = client.get_experiment_by_name(experiment_name)\n",
    "experiment.name, experiment.experiment_id"
   ]
  },
  {
   "cell_type": "code",
   "execution_count": null,
   "metadata": {},
   "outputs": [],
   "source": [
    "whylogs.mlflow.list_whylogs_runs(experiment.experiment_id)"
   ]
  }
 ],
 "metadata": {
  "kernelspec": {
   "display_name": "whylogs-mlflow",
   "language": "python",
   "name": "whylogs-mlflow"
  },
  "language_info": {
   "codemirror_mode": {
    "name": "ipython",
    "version": 3
   },
   "file_extension": ".py",
   "mimetype": "text/x-python",
   "name": "python",
   "nbconvert_exporter": "python",
   "pygments_lexer": "ipython3",
   "version": "3.8.12"
  }
 },
 "nbformat": 4,
 "nbformat_minor": 4
}
