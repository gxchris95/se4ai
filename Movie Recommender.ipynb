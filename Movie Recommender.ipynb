{
 "cells": [
  {
   "cell_type": "code",
   "execution_count": 2,
   "metadata": {},
   "outputs": [],
   "source": [
    "# The address of the metadata server\n",
    "SERVER_IP = \"128.2.204.215\"\n",
    "# The port of the metadata server\n",
    "SERVER_PORT = 8080\n",
    "# the path to the input file \n",
    "ipath = '/Users/gxchris/Desktop/m.csv'\n",
    "# the path to the output file\n",
    "opath1 = '/Users/gxchris/Desktop/meta_user.csv'\n",
    "opath2 = '/Users/gxchris/Desktop/meta_movie.csv'\n",
    "# batch size\n",
    "LIMIT = 100000"
   ]
  },
  {
   "cell_type": "code",
   "execution_count": 3,
   "metadata": {},
   "outputs": [],
   "source": [
    "from kafka import KafkaConsumer \n",
    "import logging\n",
    "import os\n",
    "import time\n",
    "import pandas as pd\n",
    "import requests\n",
    "from surprise import Reader, Dataset, SVD, accuracy\n",
    "from surprise.model_selection import train_test_split"
   ]
  },
  {
   "cell_type": "code",
   "execution_count": 4,
   "metadata": {},
   "outputs": [],
   "source": [
    "def read_events(f,LIMIT):\n",
    "    # Create a consumer to read data from kafka\n",
    "    consumer = KafkaConsumer(\n",
    "        'movielog16',\n",
    "        bootstrap_servers=['localhost:9092'],\n",
    "        # Read from the start of the topic; Default is latest\n",
    "        auto_offset_reset='earliest'\n",
    "    )\n",
    "    # Prints all messages, again and again!\n",
    "    processed =0\n",
    "    for message in consumer:\n",
    "        # Default message.value type is bytes!\n",
    "        event = message.value.decode('utf-8')\n",
    "        processed +=1\n",
    "        if (event.split(\",\")[-1].split(\"/\")[0].strip()== 'GET'): \n",
    "            if event.split(\",\")[-1].split(\"/\")[-2]!= 'rate':\n",
    "                user_id = event.split(\",\")[1]\n",
    "                movie_name = event.split(\",\")[-1].split(\"/\")[-2]\n",
    "                rating = event.split(\",\")[-1].split(\"/\")[-1].strip('.mpg')\n",
    "                f.write(f\"{user_id},{movie_name},{rating}\\n\")\n",
    "        if processed == LIMIT:\n",
    "            break"
   ]
  },
  {
   "cell_type": "code",
   "execution_count": 5,
   "metadata": {},
   "outputs": [],
   "source": [
    "def download():\n",
    "    with open (ipath, 'w') as f:\n",
    "        return read_events(f,LIMIT)"
   ]
  },
  {
   "cell_type": "code",
   "execution_count": 6,
   "metadata": {},
   "outputs": [],
   "source": [
    "download()"
   ]
  },
  {
   "cell_type": "code",
   "execution_count": 7,
   "metadata": {
    "scrolled": true
   },
   "outputs": [
    {
     "name": "stderr",
     "output_type": "stream",
     "text": [
      "About to log a dataframe with 295332 elements, logging might take some time to complete.\n"
     ]
    },
    {
     "name": "stdout",
     "output_type": "stream",
     "text": [
      "WARN: Missing config\n"
     ]
    }
   ],
   "source": [
    "from whylogs import get_or_create_session\n",
    "import pandas as pd\n",
    "\n",
    "session = get_or_create_session()\n",
    "\n",
    "df = pd.read_csv(ipath, names=['userid','movieid','rating'])\n",
    "\n",
    "with session.logger(dataset_name=\"movie_data\") as logger:\n",
    "    logger.log_dataframe(df)"
   ]
  },
  {
   "cell_type": "code",
   "execution_count": 8,
   "metadata": {
    "scrolled": true
   },
   "outputs": [
    {
     "name": "stderr",
     "output_type": "stream",
     "text": [
      "About to log a dataframe with 295332 elements, logging might take some time to complete.\n"
     ]
    },
    {
     "data": {
      "text/html": [
       "<div>\n",
       "<style scoped>\n",
       "    .dataframe tbody tr th:only-of-type {\n",
       "        vertical-align: middle;\n",
       "    }\n",
       "\n",
       "    .dataframe tbody tr th {\n",
       "        vertical-align: top;\n",
       "    }\n",
       "\n",
       "    .dataframe thead th {\n",
       "        text-align: right;\n",
       "    }\n",
       "</style>\n",
       "<table border=\"1\" class=\"dataframe\">\n",
       "  <thead>\n",
       "    <tr style=\"text-align: right;\">\n",
       "      <th></th>\n",
       "      <th>column</th>\n",
       "      <th>count</th>\n",
       "      <th>null_count</th>\n",
       "      <th>bool_count</th>\n",
       "      <th>numeric_count</th>\n",
       "      <th>max</th>\n",
       "      <th>mean</th>\n",
       "      <th>min</th>\n",
       "      <th>stddev</th>\n",
       "      <th>nunique_numbers</th>\n",
       "      <th>...</th>\n",
       "      <th>stddev_token_length</th>\n",
       "      <th>quantile_0.0000</th>\n",
       "      <th>quantile_0.0100</th>\n",
       "      <th>quantile_0.0500</th>\n",
       "      <th>quantile_0.2500</th>\n",
       "      <th>quantile_0.5000</th>\n",
       "      <th>quantile_0.7500</th>\n",
       "      <th>quantile_0.9500</th>\n",
       "      <th>quantile_0.9900</th>\n",
       "      <th>quantile_1.0000</th>\n",
       "    </tr>\n",
       "  </thead>\n",
       "  <tbody>\n",
       "    <tr>\n",
       "      <th>0</th>\n",
       "      <td>userid</td>\n",
       "      <td>98444.0</td>\n",
       "      <td>0.0</td>\n",
       "      <td>0.0</td>\n",
       "      <td>98444.0</td>\n",
       "      <td>549145.0</td>\n",
       "      <td>275731.173794</td>\n",
       "      <td>24.0</td>\n",
       "      <td>158011.943387</td>\n",
       "      <td>17092.713161</td>\n",
       "      <td>...</td>\n",
       "      <td>0.0</td>\n",
       "      <td>24.0</td>\n",
       "      <td>4574.0</td>\n",
       "      <td>28619.0</td>\n",
       "      <td>138904.0</td>\n",
       "      <td>279069.0</td>\n",
       "      <td>414264.0</td>\n",
       "      <td>522676.0</td>\n",
       "      <td>544542.0</td>\n",
       "      <td>549145.0</td>\n",
       "    </tr>\n",
       "    <tr>\n",
       "      <th>1</th>\n",
       "      <td>rating</td>\n",
       "      <td>98444.0</td>\n",
       "      <td>0.0</td>\n",
       "      <td>0.0</td>\n",
       "      <td>98444.0</td>\n",
       "      <td>1219.0</td>\n",
       "      <td>64.313417</td>\n",
       "      <td>0.0</td>\n",
       "      <td>60.011910</td>\n",
       "      <td>702.000000</td>\n",
       "      <td>...</td>\n",
       "      <td>0.0</td>\n",
       "      <td>0.0</td>\n",
       "      <td>0.0</td>\n",
       "      <td>5.0</td>\n",
       "      <td>29.0</td>\n",
       "      <td>57.0</td>\n",
       "      <td>87.0</td>\n",
       "      <td>133.0</td>\n",
       "      <td>190.0</td>\n",
       "      <td>1219.0</td>\n",
       "    </tr>\n",
       "    <tr>\n",
       "      <th>2</th>\n",
       "      <td>movieid</td>\n",
       "      <td>98444.0</td>\n",
       "      <td>0.0</td>\n",
       "      <td>0.0</td>\n",
       "      <td>0.0</td>\n",
       "      <td>0.0</td>\n",
       "      <td>0.000000</td>\n",
       "      <td>0.0</td>\n",
       "      <td>0.000000</td>\n",
       "      <td>0.000000</td>\n",
       "      <td>...</td>\n",
       "      <td>0.0</td>\n",
       "      <td>NaN</td>\n",
       "      <td>NaN</td>\n",
       "      <td>NaN</td>\n",
       "      <td>NaN</td>\n",
       "      <td>NaN</td>\n",
       "      <td>NaN</td>\n",
       "      <td>NaN</td>\n",
       "      <td>NaN</td>\n",
       "      <td>NaN</td>\n",
       "    </tr>\n",
       "  </tbody>\n",
       "</table>\n",
       "<p>3 rows × 40 columns</p>\n",
       "</div>"
      ],
      "text/plain": [
       "    column    count  null_count  bool_count  numeric_count       max  \\\n",
       "0   userid  98444.0         0.0         0.0        98444.0  549145.0   \n",
       "1   rating  98444.0         0.0         0.0        98444.0    1219.0   \n",
       "2  movieid  98444.0         0.0         0.0            0.0       0.0   \n",
       "\n",
       "            mean   min         stddev  nunique_numbers  ...  \\\n",
       "0  275731.173794  24.0  158011.943387     17092.713161  ...   \n",
       "1      64.313417   0.0      60.011910       702.000000  ...   \n",
       "2       0.000000   0.0       0.000000         0.000000  ...   \n",
       "\n",
       "   stddev_token_length  quantile_0.0000  quantile_0.0100  quantile_0.0500  \\\n",
       "0                  0.0             24.0           4574.0          28619.0   \n",
       "1                  0.0              0.0              0.0              5.0   \n",
       "2                  0.0              NaN              NaN              NaN   \n",
       "\n",
       "   quantile_0.2500  quantile_0.5000  quantile_0.7500  quantile_0.9500  \\\n",
       "0         138904.0         279069.0         414264.0         522676.0   \n",
       "1             29.0             57.0             87.0            133.0   \n",
       "2              NaN              NaN              NaN              NaN   \n",
       "\n",
       "   quantile_0.9900  quantile_1.0000  \n",
       "0         544542.0         549145.0  \n",
       "1            190.0           1219.0  \n",
       "2              NaN              NaN  \n",
       "\n",
       "[3 rows x 40 columns]"
      ]
     },
     "execution_count": 8,
     "metadata": {},
     "output_type": "execute_result"
    }
   ],
   "source": [
    "prof = session.log_dataframe(df)\n",
    "summary = prof.flat_summary()\n",
    "stats_df = summary['summary']\n",
    "stats_df"
   ]
  },
  {
   "cell_type": "code",
   "execution_count": 9,
   "metadata": {},
   "outputs": [
    {
     "name": "stderr",
     "output_type": "stream",
     "text": [
      "Using API key ID: pFovK8RVfX\n"
     ]
    },
    {
     "ename": "KeyboardInterrupt",
     "evalue": "",
     "output_type": "error",
     "traceback": [
      "\u001b[0;31m---------------------------------------------------------------------------\u001b[0m",
      "\u001b[0;31mKeyboardInterrupt\u001b[0m                         Traceback (most recent call last)",
      "Input \u001b[0;32mIn [9]\u001b[0m, in \u001b[0;36m<cell line: 19>\u001b[0;34m()\u001b[0m\n\u001b[1;32m     28\u001b[0m movie_name \u001b[38;5;241m=\u001b[39m event\u001b[38;5;241m.\u001b[39msplit(\u001b[38;5;124m\"\u001b[39m\u001b[38;5;124m,\u001b[39m\u001b[38;5;124m\"\u001b[39m)[\u001b[38;5;241m-\u001b[39m\u001b[38;5;241m1\u001b[39m]\u001b[38;5;241m.\u001b[39msplit(\u001b[38;5;124m\"\u001b[39m\u001b[38;5;124m/\u001b[39m\u001b[38;5;124m\"\u001b[39m)[\u001b[38;5;241m-\u001b[39m\u001b[38;5;241m2\u001b[39m]\n\u001b[1;32m     29\u001b[0m rating \u001b[38;5;241m=\u001b[39m event\u001b[38;5;241m.\u001b[39msplit(\u001b[38;5;124m\"\u001b[39m\u001b[38;5;124m,\u001b[39m\u001b[38;5;124m\"\u001b[39m)[\u001b[38;5;241m-\u001b[39m\u001b[38;5;241m1\u001b[39m]\u001b[38;5;241m.\u001b[39msplit(\u001b[38;5;124m\"\u001b[39m\u001b[38;5;124m/\u001b[39m\u001b[38;5;124m\"\u001b[39m)[\u001b[38;5;241m-\u001b[39m\u001b[38;5;241m1\u001b[39m]\u001b[38;5;241m.\u001b[39mstrip(\u001b[38;5;124m'\u001b[39m\u001b[38;5;124m.mpg\u001b[39m\u001b[38;5;124m'\u001b[39m)\n\u001b[0;32m---> 30\u001b[0m \u001b[43mlogger\u001b[49m\u001b[38;5;241;43m.\u001b[39;49m\u001b[43mlog\u001b[49m\u001b[43m(\u001b[49m\u001b[43m{\u001b[49m\u001b[38;5;124;43m\"\u001b[39;49m\u001b[38;5;124;43muser_id\u001b[39;49m\u001b[38;5;124;43m\"\u001b[39;49m\u001b[43m:\u001b[49m\u001b[43m \u001b[49m\u001b[43muser_id\u001b[49m\u001b[43m,\u001b[49m\u001b[43m \u001b[49m\u001b[38;5;124;43m\"\u001b[39;49m\u001b[38;5;124;43mmovie_name\u001b[39;49m\u001b[38;5;124;43m\"\u001b[39;49m\u001b[43m:\u001b[49m\u001b[43m \u001b[49m\u001b[43mmovie_name\u001b[49m\u001b[43m,\u001b[49m\u001b[43m \u001b[49m\u001b[38;5;124;43m\"\u001b[39;49m\u001b[38;5;124;43mrating\u001b[39;49m\u001b[38;5;124;43m\"\u001b[39;49m\u001b[43m:\u001b[49m\u001b[43m \u001b[49m\u001b[43mrating\u001b[49m\u001b[43m}\u001b[49m\u001b[43m)\u001b[49m\n",
      "File \u001b[0;32m~/opt/anaconda3/envs/whylogs-mlflow/lib/python3.8/site-packages/whylogs/app/logger.py:374\u001b[0m, in \u001b[0;36mLogger.log\u001b[0;34m(self, features, feature_name, value, character_list, token_method)\u001b[0m\n\u001b[1;32m    370\u001b[0m     \u001b[38;5;28;01mraise\u001b[39;00m \u001b[38;5;167;01mValueError\u001b[39;00m(\u001b[38;5;124m\"\u001b[39m\u001b[38;5;124mCannot specify both features and feature_name\u001b[39m\u001b[38;5;124m\"\u001b[39m)\n\u001b[1;32m    372\u001b[0m \u001b[38;5;28;01mif\u001b[39;00m features \u001b[38;5;129;01mis\u001b[39;00m \u001b[38;5;129;01mnot\u001b[39;00m \u001b[38;5;28;01mNone\u001b[39;00m:\n\u001b[1;32m    373\u001b[0m     \u001b[38;5;66;03m# full profile\u001b[39;00m\n\u001b[0;32m--> 374\u001b[0m     \u001b[38;5;28;43mself\u001b[39;49m\u001b[38;5;241;43m.\u001b[39;49m\u001b[43mlog_dataframe\u001b[49m\u001b[43m(\u001b[49m\u001b[43mpd\u001b[49m\u001b[38;5;241;43m.\u001b[39;49m\u001b[43mDataFrame\u001b[49m\u001b[43m(\u001b[49m\u001b[43m[\u001b[49m\u001b[43mfeatures\u001b[49m\u001b[43m]\u001b[49m\u001b[43m)\u001b[49m\u001b[43m)\u001b[49m\n\u001b[1;32m    375\u001b[0m \u001b[38;5;28;01melse\u001b[39;00m:\n\u001b[1;32m    376\u001b[0m     \u001b[38;5;28;01mif\u001b[39;00m \u001b[38;5;28mself\u001b[39m\u001b[38;5;241m.\u001b[39mfull_profile_check():\n",
      "File \u001b[0;32m~/opt/anaconda3/envs/whylogs-mlflow/lib/python3.8/site-packages/whylogs/app/logger.py:569\u001b[0m, in \u001b[0;36mLogger.log_dataframe\u001b[0;34m(self, df, segments, profile_full_dataset)\u001b[0m\n\u001b[1;32m    566\u001b[0m     \u001b[38;5;28mself\u001b[39m\u001b[38;5;241m.\u001b[39mset_segments(segments)\n\u001b[1;32m    568\u001b[0m \u001b[38;5;28;01mif\u001b[39;00m \u001b[38;5;28mself\u001b[39m\u001b[38;5;241m.\u001b[39mfull_profile_check():\n\u001b[0;32m--> 569\u001b[0m     \u001b[38;5;28;43mself\u001b[39;49m\u001b[38;5;241;43m.\u001b[39;49m\u001b[43m_profiles\u001b[49m\u001b[43m[\u001b[49m\u001b[38;5;241;43m-\u001b[39;49m\u001b[38;5;241;43m1\u001b[39;49m\u001b[43m]\u001b[49m\u001b[43m[\u001b[49m\u001b[38;5;124;43m\"\u001b[39;49m\u001b[38;5;124;43mfull_profile\u001b[39;49m\u001b[38;5;124;43m\"\u001b[39;49m\u001b[43m]\u001b[49m\u001b[38;5;241;43m.\u001b[39;49m\u001b[43mtrack_dataframe\u001b[49m\u001b[43m(\u001b[49m\u001b[43mdf\u001b[49m\u001b[43m)\u001b[49m\n\u001b[1;32m    571\u001b[0m \u001b[38;5;28;01mif\u001b[39;00m \u001b[38;5;28mself\u001b[39m\u001b[38;5;241m.\u001b[39msegments:\n\u001b[1;32m    572\u001b[0m     \u001b[38;5;28mself\u001b[39m\u001b[38;5;241m.\u001b[39mlog_segments(df)\n",
      "File \u001b[0;32m~/opt/anaconda3/envs/whylogs-mlflow/lib/python3.8/site-packages/whylogs/core/datasetprofile.py:315\u001b[0m, in \u001b[0;36mDatasetProfile.track_dataframe\u001b[0;34m(self, df, character_list, token_method)\u001b[0m\n\u001b[1;32m    313\u001b[0m value \u001b[38;5;241m=\u001b[39m col_values[idx]\n\u001b[1;32m    314\u001b[0m row_values\u001b[38;5;241m.\u001b[39mappend(value)\n\u001b[0;32m--> 315\u001b[0m \u001b[38;5;28;43mself\u001b[39;49m\u001b[38;5;241;43m.\u001b[39;49m\u001b[43mtrack\u001b[49m\u001b[43m(\u001b[49m\u001b[43mcol\u001b[49m\u001b[43m,\u001b[49m\u001b[43m \u001b[49m\u001b[43mvalue\u001b[49m\u001b[43m,\u001b[49m\u001b[43m \u001b[49m\u001b[43mcharacter_list\u001b[49m\u001b[38;5;241;43m=\u001b[39;49m\u001b[38;5;28;43;01mNone\u001b[39;49;00m\u001b[43m,\u001b[49m\u001b[43m \u001b[49m\u001b[43mtoken_method\u001b[49m\u001b[38;5;241;43m=\u001b[39;49m\u001b[38;5;28;43;01mNone\u001b[39;49;00m\u001b[43m)\u001b[49m\n\u001b[1;32m    316\u001b[0m \u001b[38;5;28;01mif\u001b[39;00m large_df \u001b[38;5;129;01mand\u001b[39;00m (count \u001b[38;5;241m%\u001b[39m \u001b[38;5;241m200000\u001b[39m \u001b[38;5;241m==\u001b[39m \u001b[38;5;241m0\u001b[39m):\n\u001b[1;32m    317\u001b[0m     logger\u001b[38;5;241m.\u001b[39mwarning(\u001b[38;5;124mf\u001b[39m\u001b[38;5;124m\"\u001b[39m\u001b[38;5;124mLogged \u001b[39m\u001b[38;5;132;01m{\u001b[39;00mcount\u001b[38;5;132;01m}\u001b[39;00m\u001b[38;5;124m elements out of \u001b[39m\u001b[38;5;132;01m{\u001b[39;00melement_count\u001b[38;5;132;01m}\u001b[39;00m\u001b[38;5;124m\"\u001b[39m)\n",
      "File \u001b[0;32m~/opt/anaconda3/envs/whylogs-mlflow/lib/python3.8/site-packages/whylogs/core/datasetprofile.py:244\u001b[0m, in \u001b[0;36mDatasetProfile.track\u001b[0;34m(self, columns, data, character_list, token_method)\u001b[0m\n\u001b[1;32m    242\u001b[0m     \u001b[38;5;28;01mif\u001b[39;00m \u001b[38;5;28mtype\u001b[39m(columns) \u001b[38;5;241m!=\u001b[39m \u001b[38;5;28mstr\u001b[39m:\n\u001b[1;32m    243\u001b[0m         \u001b[38;5;28;01mraise\u001b[39;00m \u001b[38;5;167;01mTypeError\u001b[39;00m(\u001b[38;5;124m\"\u001b[39m\u001b[38;5;124mAmbiguous column to data mapping\u001b[39m\u001b[38;5;124m\"\u001b[39m)\n\u001b[0;32m--> 244\u001b[0m     \u001b[38;5;28;43mself\u001b[39;49m\u001b[38;5;241;43m.\u001b[39;49m\u001b[43mtrack_datum\u001b[49m\u001b[43m(\u001b[49m\u001b[43mcolumns\u001b[49m\u001b[43m,\u001b[49m\u001b[43m \u001b[49m\u001b[43mdata\u001b[49m\u001b[43m)\u001b[49m\n\u001b[1;32m    245\u001b[0m \u001b[38;5;28;01melse\u001b[39;00m:\n\u001b[1;32m    246\u001b[0m     \u001b[38;5;28;01mif\u001b[39;00m \u001b[38;5;28misinstance\u001b[39m(columns, \u001b[38;5;28mdict\u001b[39m):\n",
      "File \u001b[0;32m~/opt/anaconda3/envs/whylogs-mlflow/lib/python3.8/site-packages/whylogs/core/datasetprofile.py:262\u001b[0m, in \u001b[0;36mDatasetProfile.track_datum\u001b[0;34m(self, column_name, data, character_list, token_method)\u001b[0m\n\u001b[1;32m    259\u001b[0m     prof \u001b[38;5;241m=\u001b[39m ColumnProfile(column_name, constraints\u001b[38;5;241m=\u001b[39mconstraints)\n\u001b[1;32m    260\u001b[0m     \u001b[38;5;28mself\u001b[39m\u001b[38;5;241m.\u001b[39mcolumns[column_name] \u001b[38;5;241m=\u001b[39m prof\n\u001b[0;32m--> 262\u001b[0m \u001b[43mprof\u001b[49m\u001b[38;5;241;43m.\u001b[39;49m\u001b[43mtrack\u001b[49m\u001b[43m(\u001b[49m\u001b[43mdata\u001b[49m\u001b[43m,\u001b[49m\u001b[43m \u001b[49m\u001b[43mcharacter_list\u001b[49m\u001b[38;5;241;43m=\u001b[39;49m\u001b[38;5;28;43;01mNone\u001b[39;49;00m\u001b[43m,\u001b[49m\u001b[43m \u001b[49m\u001b[43mtoken_method\u001b[49m\u001b[38;5;241;43m=\u001b[39;49m\u001b[38;5;28;43;01mNone\u001b[39;49;00m\u001b[43m)\u001b[49m\n",
      "File \u001b[0;32m~/opt/anaconda3/envs/whylogs-mlflow/lib/python3.8/site-packages/whylogs/core/columnprofile.py:113\u001b[0m, in \u001b[0;36mColumnProfile.track\u001b[0;34m(self, value, character_list, token_method)\u001b[0m\n\u001b[1;32m    111\u001b[0m \u001b[38;5;66;03m# TODO: ignore this if we already know the data type\u001b[39;00m\n\u001b[1;32m    112\u001b[0m \u001b[38;5;28;01mif\u001b[39;00m \u001b[38;5;28misinstance\u001b[39m(value, \u001b[38;5;28mstr\u001b[39m):\n\u001b[0;32m--> 113\u001b[0m     \u001b[38;5;28;43mself\u001b[39;49m\u001b[38;5;241;43m.\u001b[39;49m\u001b[43mstring_tracker\u001b[49m\u001b[38;5;241;43m.\u001b[39;49m\u001b[43mupdate\u001b[49m\u001b[43m(\u001b[49m\u001b[43mvalue\u001b[49m\u001b[43m,\u001b[49m\u001b[43m \u001b[49m\u001b[43mcharacter_list\u001b[49m\u001b[38;5;241;43m=\u001b[39;49m\u001b[43mcharacter_list\u001b[49m\u001b[43m,\u001b[49m\u001b[43m \u001b[49m\u001b[43mtoken_method\u001b[49m\u001b[38;5;241;43m=\u001b[39;49m\u001b[43mtoken_method\u001b[49m\u001b[43m)\u001b[49m\n\u001b[1;32m    114\u001b[0m \u001b[38;5;66;03m# TODO: Implement real typed data conversion\u001b[39;00m\n\u001b[1;32m    116\u001b[0m \u001b[38;5;28mself\u001b[39m\u001b[38;5;241m.\u001b[39mconstraints\u001b[38;5;241m.\u001b[39mupdate(value)\n",
      "File \u001b[0;32m~/opt/anaconda3/envs/whylogs-mlflow/lib/python3.8/site-packages/whylogs/core/statistics/stringtracker.py:228\u001b[0m, in \u001b[0;36mStringTracker.update\u001b[0;34m(self, value, character_list, token_method)\u001b[0m\n\u001b[1;32m    226\u001b[0m \u001b[38;5;28;01mif\u001b[39;00m token_method:\n\u001b[1;32m    227\u001b[0m     \u001b[38;5;28mself\u001b[39m\u001b[38;5;241m.\u001b[39mtoken_method \u001b[38;5;241m=\u001b[39m token_method\n\u001b[0;32m--> 228\u001b[0m \u001b[38;5;28;43mself\u001b[39;49m\u001b[38;5;241;43m.\u001b[39;49m\u001b[43mlength\u001b[49m\u001b[38;5;241;43m.\u001b[39;49m\u001b[43mtrack\u001b[49m\u001b[43m(\u001b[49m\u001b[38;5;28;43mlen\u001b[39;49m\u001b[43m(\u001b[49m\u001b[43mvalue\u001b[49m\u001b[43m)\u001b[49m\u001b[43m)\u001b[49m\n\u001b[1;32m    229\u001b[0m \u001b[38;5;28mself\u001b[39m\u001b[38;5;241m.\u001b[39mtoken_length\u001b[38;5;241m.\u001b[39mtrack(\u001b[38;5;28mlen\u001b[39m(\u001b[38;5;28mself\u001b[39m\u001b[38;5;241m.\u001b[39mtoken_method(value)))\n",
      "File \u001b[0;32m~/opt/anaconda3/envs/whylogs-mlflow/lib/python3.8/site-packages/whylogs/core/statistics/numbertracker.py:89\u001b[0m, in \u001b[0;36mNumberTracker.track\u001b[0;34m(self, number)\u001b[0m\n\u001b[1;32m     86\u001b[0m \u001b[38;5;28;01mif\u001b[39;00m pd\u001b[38;5;241m.\u001b[39misnull(number) \u001b[38;5;129;01mor\u001b[39;00m (\u001b[38;5;129;01mnot\u001b[39;00m \u001b[38;5;28misinstance\u001b[39m(number, numbers\u001b[38;5;241m.\u001b[39mReal)) \u001b[38;5;129;01mor\u001b[39;00m \u001b[38;5;28misinstance\u001b[39m(number, \u001b[38;5;28mbool\u001b[39m):\n\u001b[1;32m     87\u001b[0m     \u001b[38;5;66;03m# XXX: this type checking may still be fragile in python.\u001b[39;00m\n\u001b[1;32m     88\u001b[0m     \u001b[38;5;28;01mreturn\u001b[39;00m\n\u001b[0;32m---> 89\u001b[0m \u001b[38;5;28;43mself\u001b[39;49m\u001b[38;5;241;43m.\u001b[39;49m\u001b[43mvariance\u001b[49m\u001b[38;5;241;43m.\u001b[39;49m\u001b[43mupdate\u001b[49m\u001b[43m(\u001b[49m\u001b[43mnumber\u001b[49m\u001b[43m)\u001b[49m\n\u001b[1;32m     90\u001b[0m \u001b[38;5;28mself\u001b[39m\u001b[38;5;241m.\u001b[39mtheta_sketch\u001b[38;5;241m.\u001b[39mupdate(number)\n\u001b[1;32m     91\u001b[0m \u001b[38;5;66;03m# TODO: histogram update\u001b[39;00m\n\u001b[1;32m     92\u001b[0m \u001b[38;5;66;03m# Update floats/ints counting\u001b[39;00m\n",
      "File \u001b[0;32m~/opt/anaconda3/envs/whylogs-mlflow/lib/python3.8/site-packages/whylogs/core/statistics/datatypes/variancetracker.py:37\u001b[0m, in \u001b[0;36mVarianceTracker.update\u001b[0;34m(self, new_value)\u001b[0m\n\u001b[1;32m     26\u001b[0m \u001b[38;5;28;01mdef\u001b[39;00m \u001b[38;5;21mupdate\u001b[39m(\u001b[38;5;28mself\u001b[39m, new_value):\n\u001b[1;32m     27\u001b[0m     \u001b[38;5;124;03m\"\"\"\u001b[39;00m\n\u001b[1;32m     28\u001b[0m \u001b[38;5;124;03m    Add a number to tracking estimates\u001b[39;00m\n\u001b[1;32m     29\u001b[0m \n\u001b[0;32m   (...)\u001b[0m\n\u001b[1;32m     35\u001b[0m \u001b[38;5;124;03m    new_value : int, float\u001b[39;00m\n\u001b[1;32m     36\u001b[0m \u001b[38;5;124;03m    \"\"\"\u001b[39;00m\n\u001b[0;32m---> 37\u001b[0m     \u001b[38;5;28mself\u001b[39m\u001b[38;5;241m.\u001b[39mcount \u001b[38;5;241m+\u001b[39m\u001b[38;5;241m=\u001b[39m \u001b[38;5;241m1\u001b[39m\n\u001b[1;32m     39\u001b[0m     delta \u001b[38;5;241m=\u001b[39m new_value \u001b[38;5;241m-\u001b[39m \u001b[38;5;28mself\u001b[39m\u001b[38;5;241m.\u001b[39mmean\n\u001b[1;32m     40\u001b[0m     \u001b[38;5;28mself\u001b[39m\u001b[38;5;241m.\u001b[39mmean \u001b[38;5;241m+\u001b[39m\u001b[38;5;241m=\u001b[39m delta \u001b[38;5;241m/\u001b[39m \u001b[38;5;28mself\u001b[39m\u001b[38;5;241m.\u001b[39mcount\n",
      "\u001b[0;31mKeyboardInterrupt\u001b[0m: "
     ]
    }
   ],
   "source": [
    "from whylogs.app import Session\n",
    "from whylogs.app.writers import WhyLabsWriter\n",
    "from whylogs import get_or_create_session\n",
    "\n",
    "os.environ[\"WHYLABS_API_KEY\"] = \"pFovK8RVfX.KB8Oh3Qrb0Icz8Tqj6eTIXtUz9wMxHaL949Gnd1X9jrWTSrXq7DuP\"\n",
    "os.environ[\"WHYLABS_DEFAULT_ORG_ID\"] = \"org-FRbeeg\"\n",
    "os.environ[\"WHYLABS_DEFAULT_DATASET_ID\"] = \"model-5\"\n",
    "\n",
    "# Create a consumer to read data from kafka\n",
    "consumer = KafkaConsumer(\n",
    "    'movielog16',\n",
    "    bootstrap_servers=['localhost:9092'],\n",
    "    # Read from the start of the topic; Default is latest\n",
    "    auto_offset_reset='earliest')\n",
    "processed =0\n",
    "writer = WhyLabsWriter()\n",
    "session = Session(project=\"movie-test2\", pipeline=\"test2-pipeline\", writers=[writer])\n",
    "with session.logger(dataset_name=\"dataset\", with_rotation_time=\"s\") as logger:\n",
    "    while True:\n",
    "        for message in consumer:\n",
    "            # Default message.value type is bytes!\n",
    "            event = message.value.decode('utf-8')\n",
    "            processed +=1\n",
    "            if (event.split(\",\")[-1].split(\"/\")[0].strip()== 'GET'): \n",
    "                if event.split(\",\")[-1].split(\"/\")[-2]!= 'rate':\n",
    "                    user_id = event.split(\",\")[1]\n",
    "                    movie_name = event.split(\",\")[-1].split(\"/\")[-2]\n",
    "                    rating = event.split(\",\")[-1].split(\"/\")[-1].strip('.mpg')\n",
    "                    logger.log({\"user_id\": user_id, \"movie_name\": movie_name, \"rating\": rating})"
   ]
  },
  {
   "cell_type": "code",
   "execution_count": null,
   "metadata": {},
   "outputs": [],
   "source": [
    "from whylogs.app import Session\n",
    "from whylogs.app.writers import WhyLabsWriter\n",
    "\n",
    "os.environ[\"WHYLABS_API_KEY\"] = \"pFovK8RVfX.KB8Oh3Qrb0Icz8Tqj6eTIXtUz9wMxHaL949Gnd1X9jrWTSrXq7DuP\"\n",
    "os.environ[\"WHYLABS_DEFAULT_ORG_ID\"] = \"org-FRbeeg\"\n",
    "\n",
    "# Adding the WhyLabs Writer to utilize WhyLabs platform\n",
    "writer = WhyLabsWriter(\"\", formats=[])\n",
    "\n",
    "session = Session(project=\"movie-test1\", pipeline=\"test1-pipeline\", writers=[writer])\n",
    "\n",
    "# Point to your local CSV if you have your own data\n",
    "df = pd.read_csv(ipath, names=['userid','movieid','rating'])\n",
    "\n",
    "# Run whylogs on current data and upload to WhyLabs.\n",
    "# Note: the datasetId is the same as the modelId\n",
    "# The selected model project \"MODEL-NAME\" is \"model-1\"\n",
    "\n",
    "with session.logger(tags={\"datasetId\": \"model-4\"}) as ylog:\n",
    "    ylog.log_dataframe(df)"
   ]
  },
  {
   "cell_type": "code",
   "execution_count": null,
   "metadata": {},
   "outputs": [],
   "source": [
    "import warnings\n",
    "warnings.filterwarnings(\"ignore\")\n",
    "warnings.simplefilter('ignore')\n",
    "\n",
    "import random\n",
    "import time\n",
    "import mlflow\n",
    "import whylogs"
   ]
  },
  {
   "cell_type": "code",
   "execution_count": null,
   "metadata": {},
   "outputs": [],
   "source": [
    "from whylogs import get_or_create_session\n",
    "assert whylogs.__version__ >= \"0.1.13\" # we need 0.1.13 or later for MLflow integration\n",
    "session = get_or_create_session(\".whylogs_mlflow.yaml\")\n",
    "whylogs.enable_mlflow(session)"
   ]
  },
  {
   "cell_type": "code",
   "execution_count": null,
   "metadata": {},
   "outputs": [],
   "source": [
    "import numpy as np\n",
    "def target_col(testset):\n",
    "    target = np.array(testset)\n",
    "    targetset = target[:,-1].astype(np.float)\n",
    "    return targetset.tolist()"
   ]
  },
  {
   "cell_type": "code",
   "execution_count": null,
   "metadata": {},
   "outputs": [],
   "source": [
    "from whylogs.app import Session\n",
    "from whylogs.app.writers import WhyLabsWriter\n",
    "from whylogs import get_or_create_session\n",
    "from whylogs.proto import ModelType\n",
    "\n",
    "\n",
    "os.environ[\"WHYLABS_API_KEY\"] = \"pFovK8RVfX.KB8Oh3Qrb0Icz8Tqj6eTIXtUz9wMxHaL949Gnd1X9jrWTSrXq7DuP\"\n",
    "os.environ[\"WHYLABS_DEFAULT_ORG_ID\"] = \"org-FRbeeg\"\n",
    "os.environ[\"WHYLABS_DEFAULT_DATASET_ID\"] = \"model-5\"\n",
    "\n",
    "# Create an MLflow experiment \n",
    "experiment_name = \"movie_reco\"\n",
    "mlflow.set_experiment(experiment_name)\n",
    "\n",
    "writer = WhyLabsWriter()\n",
    "session = Session(project=\"movie-test2\", pipeline=\"test2-pipeline\", writers=[writer])\n",
    "\n",
    "reader = Reader()\n",
    "df = pd.read_csv(ipath, names=['userid','movieid','rating'])\n",
    "dataset = Dataset.load_from_df(df[['userid', 'movieid', 'rating']], reader)\n",
    "trainset, testset = train_test_split(dataset, test_size=.25)\n",
    "svd = SVD()\n",
    "svd.fit(trainset)\n",
    "with mlflow.start_run(run_name=\"movie_reco\"):\n",
    "    output = svd.test(testset) #prediction\n",
    "    rmse = accuracy.rmse(output)\n",
    "    mlflow.log_metric(\"rmse\", rmse)\n",
    "    # use whylogs to log data quality metrics for the current batch\n",
    "    test_df = pd.DataFrame(testset,columns = ['userid', 'movieid', 'rating'])\n",
    "    mlflow.whylogs.log_pandas(df)\n",
    "    target = target_col(testset)\n",
    "    with session.logger(tags={\"datasetId\": \"model-5\"}) as ylog:\n",
    "        ylog.log_dataframe(df)\n",
    "        ylog.log_metrics(target, [i.r_ui for i in output],model_type=ModelType.REGRESSION)\n"
   ]
  },
  {
   "cell_type": "code",
   "execution_count": null,
   "metadata": {},
   "outputs": [],
   "source": [
    "client = mlflow.tracking.MlflowClient()\n",
    "experiment = client.get_experiment_by_name(experiment_name)\n",
    "experiment.name, experiment.experiment_id"
   ]
  },
  {
   "cell_type": "code",
   "execution_count": null,
   "metadata": {},
   "outputs": [],
   "source": [
    "whylogs.mlflow.list_whylogs_runs(experiment.experiment_id)"
   ]
  }
 ],
 "metadata": {
  "kernelspec": {
   "display_name": "whylogs-mlflow",
   "language": "python",
   "name": "whylogs-mlflow"
  },
  "language_info": {
   "codemirror_mode": {
    "name": "ipython",
    "version": 3
   },
   "file_extension": ".py",
   "mimetype": "text/x-python",
   "name": "python",
   "nbconvert_exporter": "python",
   "pygments_lexer": "ipython3",
   "version": "3.8.12"
  }
 },
 "nbformat": 4,
 "nbformat_minor": 4
}
